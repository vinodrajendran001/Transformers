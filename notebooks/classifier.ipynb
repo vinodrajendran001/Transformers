{
  "nbformat": 4,
  "nbformat_minor": 0,
  "metadata": {
    "colab": {
      "name": "classifier.ipynb",
      "provenance": [],
      "collapsed_sections": []
    },
    "kernelspec": {
      "name": "python3",
      "display_name": "Python 3"
    },
    "accelerator": "GPU"
  },
  "cells": [
    {
      "cell_type": "code",
      "metadata": {
        "id": "lPv-MdE1sAkJ",
        "outputId": "33036546-2419-4f28-b9e8-e0f5a717eb9e",
        "colab": {
          "base_uri": "https://localhost:8080/",
          "height": 35
        }
      },
      "source": [
        "from google.colab import drive\n",
        "drive.mount('/content/drive/')"
      ],
      "execution_count": 2,
      "outputs": [
        {
          "output_type": "stream",
          "text": [
            "Mounted at /content/drive/\n"
          ],
          "name": "stdout"
        }
      ]
    },
    {
      "cell_type": "code",
      "metadata": {
        "id": "zfzXOqAksG4_",
        "outputId": "4bc12ec6-d142-47a5-d41e-e26f4bd0aa3c",
        "colab": {
          "base_uri": "https://localhost:8080/",
          "height": 35
        }
      },
      "source": [
        "%cd /content/drive/My Drive/Colab Notebooks/Transformers"
      ],
      "execution_count": 4,
      "outputs": [
        {
          "output_type": "stream",
          "text": [
            "/content/drive/My Drive/Colab Notebooks/Transformers\n"
          ],
          "name": "stdout"
        }
      ]
    },
    {
      "cell_type": "code",
      "metadata": {
        "id": "7w5MgG3quSsn"
      },
      "source": [
        "import torch\n",
        "from torch import nn\n",
        "from torch.autograd import Variable\n",
        "import torch.nn.functional as F\n",
        "from torchtext import data, datasets, vocab\n",
        "import numpy as np\n",
        "import matplotlib.pyplot as plt\n",
        "from torch.utils.tensorboard import SummaryWriter\n",
        "import random, tqdm, sys, math, gzip, os\n",
        "from utils.util import d, save_checkpoint, load_checkpoint\n",
        "from transformers import CTransformer"
      ],
      "execution_count": 5,
      "outputs": []
    },
    {
      "cell_type": "code",
      "metadata": {
        "id": "1mkXj0VJu3Ts"
      },
      "source": [
        "def trainF(model, train_loader, val_loader, num_epochs, criterion, save_name):\n",
        "\n",
        "    gradient_clipping = 1.0\n",
        "    best_val_loss = float(\"Inf\")\n",
        "    train_losses = []\n",
        "    val_losses = []\n",
        "    \n",
        "    for epoch in range(num_epochs):\n",
        "        running_loss = 0.0\n",
        "        model.train()\n",
        "        print('Starting epoch ' + str(epoch + 1))\n",
        "\n",
        "        for batch in tqdm.tqdm(train_loader):\n",
        "\n",
        "            input = batch.text[0].to(device)\n",
        "            label = batch.label - 1\n",
        "            label = label.to(device)\n",
        "\n",
        "            if input.size(1) > mx:\n",
        "                input = input[:, :mx]\n",
        "            out = model(input)\n",
        "            loss = criterion(out, label)\n",
        "\n",
        "            # Backward and optimize\n",
        "            optimizer.zero_grad()\n",
        "            loss.backward()\n",
        "\n",
        "            #clip gradients\n",
        "            if gradient_clipping > 0.0:\n",
        "                nn.utils.clip_grad_norm_(model.parameters(), gradient_clipping)\n",
        "\n",
        "            optimizer.step()\n",
        "            scheduler.step()\n",
        "\n",
        "            running_loss += loss.item()\n",
        "\n",
        "        avg_train_loss = running_loss / len(train_loader)\n",
        "        train_losses.append(avg_train_loss)\n",
        "\n",
        "        val_running_loss = 0.0\n",
        "        with torch.no_grad():\n",
        "            model.eval()\n",
        "            tot, cor = 0.0, 0.0\n",
        "\n",
        "            for batch in val_loader:\n",
        "                input = batch.text[0].to(device)\n",
        "                label = batch.label - 1\n",
        "                label = label.to(device)\n",
        "\n",
        "                if input.size(1) > mx:\n",
        "                    input = input[:, :mx]\n",
        "                out = model(input)\n",
        "                loss = criterion(out, label)\n",
        "                val_running_loss += loss.item()\n",
        "\n",
        "                tot += float(input.size(0))\n",
        "                cor += float((label == out.argmax(dim=1)).sum().item())\n",
        "\n",
        "            acc = cor/tot \n",
        "            print(\"validation accuracy {:.3f}\".format(acc))\n",
        "        avg_val_loss = val_running_loss / len(val_loader)\n",
        "        val_losses.append(avg_val_loss)\n",
        "\n",
        "        print('Epoch [{}/{}],Train Loss: {:.4f}, Valid Loss: {:.8f}'\n",
        "            .format(epoch+1, num_epochs, avg_train_loss, avg_val_loss))\n",
        "        if avg_val_loss < best_val_loss:\n",
        "            best_val_loss = avg_val_loss\n",
        "            save_checkpoint(save_name, model, optimizer, best_val_loss)\n",
        "\n",
        "    print(\"Finished Training\")\n",
        "    return train_losses, val_losses"
      ],
      "execution_count": 6,
      "outputs": []
    },
    {
      "cell_type": "code",
      "metadata": {
        "id": "emkAqGP3aqiD"
      },
      "source": [
        "# evaluation metrics\n",
        "def eval(model, test_loader):\n",
        "    with torch.no_grad():\n",
        "        model.eval()\n",
        "        correct = 0\n",
        "        print('Starting Iteration')\n",
        "        count = 0\n",
        "        for batch in test_loader:\n",
        "          input = batch.text[0].to(device)\n",
        "          label = batch.label - 1\n",
        "          label = label.to(device)\n",
        "          if input.size(1) > mx:\n",
        "            input = input[:, :mx]\n",
        "          out = model(input)\n",
        "          if label == out.argmax(dim=1):\n",
        "            correct += 1\n",
        "          count += 1 \n",
        "        print(\"Current Count is: {}\".format(count))\n",
        "        print('Accuracy on test set: {}'.format(correct/count))"
      ],
      "execution_count": 7,
      "outputs": []
    },
    {
      "cell_type": "code",
      "metadata": {
        "id": "nqKZW8XLvfil"
      },
      "source": [
        "  vocab_size = 50000\n",
        "  batch_size = 4\n",
        "  LOG2E = math.log2(math.e)\n",
        "  TEXT = data.Field(lower=True, include_lengths=True, batch_first=True)\n",
        "  LABEL = data.Field(sequential=False)"
      ],
      "execution_count": 8,
      "outputs": []
    },
    {
      "cell_type": "code",
      "metadata": {
        "id": "w1teRHsCvldI",
        "outputId": "3f62b9be-6d90-4723-ff6e-da9ad6e71699",
        "colab": {
          "base_uri": "https://localhost:8080/",
          "height": 52
        }
      },
      "source": [
        "tdata, test = datasets.IMDB.splits(TEXT, LABEL, root='/content/drive/My Drive/Colab Notebooks/Transformers/.data/')\n",
        "train, val = tdata.split(split_ratio=0.8)\n",
        "\n",
        "TEXT.build_vocab(train, max_size=vocab_size - 2)\n",
        "LABEL.build_vocab(train)"
      ],
      "execution_count": 9,
      "outputs": [
        {
          "output_type": "stream",
          "text": [
            "\raclImdb_v1.tar.gz:   0%|          | 0.00/84.1M [00:00<?, ?B/s]"
          ],
          "name": "stderr"
        },
        {
          "output_type": "stream",
          "text": [
            "downloading aclImdb_v1.tar.gz\n"
          ],
          "name": "stdout"
        },
        {
          "output_type": "stream",
          "text": [
            "aclImdb_v1.tar.gz: 100%|██████████| 84.1M/84.1M [00:03<00:00, 22.9MB/s]\n"
          ],
          "name": "stderr"
        }
      ]
    },
    {
      "cell_type": "code",
      "metadata": {
        "id": "g-6MFaBB-i43"
      },
      "source": [
        "train_iter = data.BucketIterator(train, batch_size=batch_size, device=d())\n",
        "val_iter = data.BucketIterator(val, batch_size=1, device=d())\n",
        "test_iter = data.BucketIterator(test, batch_size=1, device=d())\n",
        "\n",
        "# train_loader = torch.utils.data.DataLoader(train, batch_size=batch_size, num_workers=10)\n",
        "# val_loader = torch.utils.data.DataLoader(val, batch_size=1, num_workers=0, shuffle=True)\n",
        "# test_loader = torch.utils.data.DataLoader(test, batch_size=1, num_workers=0, shuffle=True)"
      ],
      "execution_count": 10,
      "outputs": []
    },
    {
      "cell_type": "code",
      "metadata": {
        "id": "2dXfGk60wQFI",
        "outputId": "4b83ae54-080d-4cc8-bb6c-64da6a3b3d5c",
        "colab": {
          "base_uri": "https://localhost:8080/",
          "height": 69
        }
      },
      "source": [
        "print(f'- nr. of training examples {len(train_iter)}')\n",
        "print(f'- nr. of validation examples {len(val_iter)}')\n",
        "print(f'- nr. of test examples {len(test_iter)}')"
      ],
      "execution_count": 11,
      "outputs": [
        {
          "output_type": "stream",
          "text": [
            "- nr. of training examples 5000\n",
            "- nr. of validation examples 5000\n",
            "- nr. of test examples 25000\n"
          ],
          "name": "stdout"
        }
      ]
    },
    {
      "cell_type": "code",
      "metadata": {
        "id": "0KSfaIHpzC-a",
        "outputId": "df6bc5d1-98fe-4da3-87a1-70ff3790ad01",
        "colab": {
          "base_uri": "https://localhost:8080/",
          "height": 1000
        }
      },
      "source": [
        "NUM_CLS = 2\n",
        "embedding_size = 128\n",
        "num_heads = 8\n",
        "depth = 6\n",
        "max_length = 512\n",
        "max_pool = True\n",
        "\n",
        "if max_length < 0:\n",
        "    mx = max([input.text[0].size(1) for input in train_iter])\n",
        "    mx = mx * 2\n",
        "    print(f'- maximum sequence length: {mx}')\n",
        "else:\n",
        "    mx = max_length\n",
        "    print(f'- maximum sequence length: {mx}')\n",
        "\n",
        "\n",
        "#creating the original network and couting the parameters of different networks\n",
        "device = torch.device('cuda:0' if torch.cuda.is_available() else 'cpu')\n",
        "model = CTransformer(emb=embedding_size, heads=num_heads, depth=depth, seq_length=mx, num_tokens=vocab_size, num_classes=NUM_CLS, max_pool=max_pool)\n",
        "if torch.cuda.is_available():\n",
        "  model.cuda()\n",
        "temp = sum(p.numel() for p in model.parameters() if p.requires_grad)\n",
        "print(f'The model architecture:\\n\\n', model)\n",
        "print(f'\\nThe model has {temp:,} trainable parameters')"
      ],
      "execution_count": 82,
      "outputs": [
        {
          "output_type": "stream",
          "text": [
            "- maximum sequence length: 512\n",
            "The model architecture:\n",
            "\n",
            " CTransformer(\n",
            "  (token_embedding): Embedding(50000, 128)\n",
            "  (pos_embedding): Embedding(512, 128)\n",
            "  (tblocks): Sequential(\n",
            "    (0): TransformerBlock(\n",
            "      (attention): SelfAttentionNarrow(\n",
            "        (tokeys): Linear(in_features=16, out_features=16, bias=False)\n",
            "        (toqueries): Linear(in_features=16, out_features=16, bias=False)\n",
            "        (tovalues): Linear(in_features=16, out_features=16, bias=False)\n",
            "        (unifyheads): Linear(in_features=128, out_features=128, bias=True)\n",
            "      )\n",
            "      (norm1): LayerNorm((128,), eps=1e-05, elementwise_affine=True)\n",
            "      (norm2): LayerNorm((128,), eps=1e-05, elementwise_affine=True)\n",
            "      (ff): Sequential(\n",
            "        (0): Linear(in_features=128, out_features=512, bias=True)\n",
            "        (1): ReLU()\n",
            "        (2): Linear(in_features=512, out_features=128, bias=True)\n",
            "      )\n",
            "      (do): Dropout(p=0.0, inplace=False)\n",
            "    )\n",
            "    (1): TransformerBlock(\n",
            "      (attention): SelfAttentionNarrow(\n",
            "        (tokeys): Linear(in_features=16, out_features=16, bias=False)\n",
            "        (toqueries): Linear(in_features=16, out_features=16, bias=False)\n",
            "        (tovalues): Linear(in_features=16, out_features=16, bias=False)\n",
            "        (unifyheads): Linear(in_features=128, out_features=128, bias=True)\n",
            "      )\n",
            "      (norm1): LayerNorm((128,), eps=1e-05, elementwise_affine=True)\n",
            "      (norm2): LayerNorm((128,), eps=1e-05, elementwise_affine=True)\n",
            "      (ff): Sequential(\n",
            "        (0): Linear(in_features=128, out_features=512, bias=True)\n",
            "        (1): ReLU()\n",
            "        (2): Linear(in_features=512, out_features=128, bias=True)\n",
            "      )\n",
            "      (do): Dropout(p=0.0, inplace=False)\n",
            "    )\n",
            "    (2): TransformerBlock(\n",
            "      (attention): SelfAttentionNarrow(\n",
            "        (tokeys): Linear(in_features=16, out_features=16, bias=False)\n",
            "        (toqueries): Linear(in_features=16, out_features=16, bias=False)\n",
            "        (tovalues): Linear(in_features=16, out_features=16, bias=False)\n",
            "        (unifyheads): Linear(in_features=128, out_features=128, bias=True)\n",
            "      )\n",
            "      (norm1): LayerNorm((128,), eps=1e-05, elementwise_affine=True)\n",
            "      (norm2): LayerNorm((128,), eps=1e-05, elementwise_affine=True)\n",
            "      (ff): Sequential(\n",
            "        (0): Linear(in_features=128, out_features=512, bias=True)\n",
            "        (1): ReLU()\n",
            "        (2): Linear(in_features=512, out_features=128, bias=True)\n",
            "      )\n",
            "      (do): Dropout(p=0.0, inplace=False)\n",
            "    )\n",
            "    (3): TransformerBlock(\n",
            "      (attention): SelfAttentionNarrow(\n",
            "        (tokeys): Linear(in_features=16, out_features=16, bias=False)\n",
            "        (toqueries): Linear(in_features=16, out_features=16, bias=False)\n",
            "        (tovalues): Linear(in_features=16, out_features=16, bias=False)\n",
            "        (unifyheads): Linear(in_features=128, out_features=128, bias=True)\n",
            "      )\n",
            "      (norm1): LayerNorm((128,), eps=1e-05, elementwise_affine=True)\n",
            "      (norm2): LayerNorm((128,), eps=1e-05, elementwise_affine=True)\n",
            "      (ff): Sequential(\n",
            "        (0): Linear(in_features=128, out_features=512, bias=True)\n",
            "        (1): ReLU()\n",
            "        (2): Linear(in_features=512, out_features=128, bias=True)\n",
            "      )\n",
            "      (do): Dropout(p=0.0, inplace=False)\n",
            "    )\n",
            "    (4): TransformerBlock(\n",
            "      (attention): SelfAttentionNarrow(\n",
            "        (tokeys): Linear(in_features=16, out_features=16, bias=False)\n",
            "        (toqueries): Linear(in_features=16, out_features=16, bias=False)\n",
            "        (tovalues): Linear(in_features=16, out_features=16, bias=False)\n",
            "        (unifyheads): Linear(in_features=128, out_features=128, bias=True)\n",
            "      )\n",
            "      (norm1): LayerNorm((128,), eps=1e-05, elementwise_affine=True)\n",
            "      (norm2): LayerNorm((128,), eps=1e-05, elementwise_affine=True)\n",
            "      (ff): Sequential(\n",
            "        (0): Linear(in_features=128, out_features=512, bias=True)\n",
            "        (1): ReLU()\n",
            "        (2): Linear(in_features=512, out_features=128, bias=True)\n",
            "      )\n",
            "      (do): Dropout(p=0.0, inplace=False)\n",
            "    )\n",
            "    (5): TransformerBlock(\n",
            "      (attention): SelfAttentionNarrow(\n",
            "        (tokeys): Linear(in_features=16, out_features=16, bias=False)\n",
            "        (toqueries): Linear(in_features=16, out_features=16, bias=False)\n",
            "        (tovalues): Linear(in_features=16, out_features=16, bias=False)\n",
            "        (unifyheads): Linear(in_features=128, out_features=128, bias=True)\n",
            "      )\n",
            "      (norm1): LayerNorm((128,), eps=1e-05, elementwise_affine=True)\n",
            "      (norm2): LayerNorm((128,), eps=1e-05, elementwise_affine=True)\n",
            "      (ff): Sequential(\n",
            "        (0): Linear(in_features=128, out_features=512, bias=True)\n",
            "        (1): ReLU()\n",
            "        (2): Linear(in_features=512, out_features=128, bias=True)\n",
            "      )\n",
            "      (do): Dropout(p=0.0, inplace=False)\n",
            "    )\n",
            "  )\n",
            "  (toprobs): Linear(in_features=128, out_features=2, bias=True)\n",
            "  (do): Dropout(p=0.0, inplace=False)\n",
            ")\n",
            "\n",
            "The model has 7,362,818 trainable parameters\n"
          ],
          "name": "stdout"
        }
      ]
    },
    {
      "cell_type": "code",
      "metadata": {
        "id": "oCtZ-cm4zQhT"
      },
      "source": [
        "# start training\n",
        "optimizer = torch.optim.Adam(lr = 0.0001, params=model.parameters())\n",
        "scheduler = torch.optim.lr_scheduler.LambdaLR(optimizer, lambda i: min(i / (10000/batch_size), 1.0))\n",
        "num_epochs = 10\n",
        "criterion = nn.NLLLoss()\n",
        "save_path = 'CTransformersNet.pt'\n",
        "# train_losses, val_losses = trainF(model, train_iter, val_iter, num_epochs, criterion, save_path)"
      ],
      "execution_count": 13,
      "outputs": []
    },
    {
      "cell_type": "code",
      "metadata": {
        "id": "Jf0OQqFGzVNJ",
        "outputId": "e59eab81-5171-415d-96d5-84f970a9a2ca",
        "colab": {
          "base_uri": "https://localhost:8080/",
          "height": 104
        }
      },
      "source": [
        "# Evaluation on previously saved models\n",
        "load_model = CTransformer(emb=embedding_size, heads=num_heads, depth=depth, seq_length=mx, num_tokens=vocab_size, num_classes=NUM_CLS, max_pool=max_pool)\n",
        "load_model = load_model.to(device)\n",
        "load_optimizer = torch.optim.Adam(load_model.parameters(),lr = 0.0001)\n",
        "save_path = 'CTransformersNet.pt'\n",
        "best_val_loss = load_checkpoint(load_model, save_path, load_optimizer)\n",
        "\n",
        "print(best_val_loss)\n",
        "eval(load_model, test_iter)"
      ],
      "execution_count": 14,
      "outputs": [
        {
          "output_type": "stream",
          "text": [
            "Model loaded from <== CTransformersNet.pt\n",
            "0.50027233278106\n",
            "Starting Iteration\n",
            "Current Count is: 25000\n",
            "Accuracy on test set: 0.60684\n"
          ],
          "name": "stdout"
        }
      ]
    },
    {
      "cell_type": "code",
      "metadata": {
        "id": "MpTxSjqrzZG4",
        "outputId": "86865754-3ac7-42b0-92bc-26f2bb18a036",
        "colab": {
          "base_uri": "https://localhost:8080/",
          "height": 279
        }
      },
      "source": [
        "#plotting of training and validation loss\n",
        "plt.xlabel('epoch')\n",
        "plt.ylabel('loss')\n",
        "plt.plot(train_losses, label='Train Loss')\n",
        "plt.plot(val_losses, label=\"Validation Loss\")\n",
        "plt.legend(bbox_to_anchor=(1.05, 1.0), loc='upper left')\n",
        "plt.savefig('lossclassifier.png')\n",
        "plt.show()"
      ],
      "execution_count": null,
      "outputs": [
        {
          "output_type": "display_data",
          "data": {
            "image/png": "[encoded data removed]",
            "text/plain": [
              "<Figure size 432x288 with 1 Axes>"
            ]
          },
          "metadata": {
            "tags": [],
            "needs_background": "light"
          }
        }
      ]
    },
    {
      "cell_type": "markdown",
      "metadata": {
        "id": "ZYoTVv5wGscH"
      },
      "source": [
        "Prediction"
      ]
    },
    {
      "cell_type": "code",
      "metadata": {
        "id": "POSsAFdJRK6Q",
        "outputId": "f4bafe93-9e1b-4404-bf11-c5f4a8b4fd13",
        "colab": {
          "base_uri": "https://localhost:8080/",
          "height": 35
        }
      },
      "source": [
        "print(TEXT.vocab.itos[:10])"
      ],
      "execution_count": 27,
      "outputs": [
        {
          "output_type": "stream",
          "text": [
            "['<unk>', '<pad>', 'the', 'a', 'and', 'of', 'to', 'is', 'in', 'i']\n"
          ],
          "name": "stdout"
        }
      ]
    },
    {
      "cell_type": "code",
      "metadata": {
        "id": "T9p-hsDudXYn",
        "outputId": "65ea2ce7-cb2e-4148-de98-a93c2ce6ed6f",
        "colab": {
          "base_uri": "https://localhost:8080/",
          "height": 55
        }
      },
      "source": [
        "import spacy\n",
        "from spacy.tokenizer import Tokenizer\n",
        "nlp = spacy.load(\"en_core_web_sm\")\n",
        "tokenizer = Tokenizer(nlp.vocab)\n",
        "x = \"If you're going to watch this movie, avoid any spoilers, even spoiler free reviews. Which is why I'm not going to say anything about the movie. Not even my opinion. All I'm going to say is: The crowd applauded 3 times during the movie, and stood up to clap their hands after. This I have never witnessed in a Dutch cinema. Dutch crowds aren't usually passionate about this. I checked the row where I was sitting, and people were crying. After the movie, I was seeing people with smudged mascara. That's all I have to say about the movie.\"\n",
        "list_of_strings = [tok.text for tok in tokenizer(x)]\n",
        "print(list_of_strings)"
      ],
      "execution_count": 84,
      "outputs": [
        {
          "output_type": "stream",
          "text": [
            "['If', \"you're\", 'going', 'to', 'watch', 'this', 'movie,', 'avoid', 'any', 'spoilers,', 'even', 'spoiler', 'free', 'reviews.', 'Which', 'is', 'why', \"I'm\", 'not', 'going', 'to', 'say', 'anything', 'about', 'the', 'movie.', 'Not', 'even', 'my', 'opinion.', 'All', \"I'm\", 'going', 'to', 'say', 'is:', 'The', 'crowd', 'applauded', '3', 'times', 'during', 'the', 'movie,', 'and', 'stood', 'up', 'to', 'clap', 'their', 'hands', 'after.', 'This', 'I', 'have', 'never', 'witnessed', 'in', 'a', 'Dutch', 'cinema.', 'Dutch', 'crowds', \"aren't\", 'usually', 'passionate', 'about', 'this.', 'I', 'checked', 'the', 'row', 'where', 'I', 'was', 'sitting,', 'and', 'people', 'were', 'crying.', 'After', 'the', 'movie,', 'I', 'was', 'seeing', 'people', 'with', 'smudged', 'mascara.', \"That's\", 'all', 'I', 'have', 'to', 'say', 'about', 'the', 'movie.']\n"
          ],
          "name": "stdout"
        }
      ]
    },
    {
      "cell_type": "code",
      "metadata": {
        "id": "z64F14Db-Mj1",
        "outputId": "6c5c4b63-0ae9-47d1-ac29-90094edb015e",
        "colab": {
          "base_uri": "https://localhost:8080/",
          "height": 35
        }
      },
      "source": [
        "context = [TEXT.vocab.stoi[c] for c in list_of_strings]\n",
        "context = np.asarray(context)\n",
        "context = torch.from_numpy(context)"
      ],
      "execution_count": 67,
      "outputs": [
        {
          "output_type": "execute_result",
          "data": {
            "text/plain": [
              "torch.Size([99])"
            ]
          },
          "metadata": {
            "tags": []
          },
          "execution_count": 67
        }
      ]
    },
    {
      "cell_type": "code",
      "metadata": {
        "id": "o9--tVeejxCu",
        "outputId": "b18b9cbf-d1b7-4a5a-8fb0-c7f48ff0eee3",
        "colab": {
          "base_uri": "https://localhost:8080/",
          "height": 104
        }
      },
      "source": [
        "with torch.no_grad():\n",
        "  model.eval()\n",
        "  x = context.view(1, -1)\n",
        "  input = x.to(device)\n",
        "  print(input.shape)\n",
        "  out = model(input)\n",
        "\n",
        "print (out)\n",
        "label = out.argmax(dim=1)\n",
        "print (label)\n",
        "\n",
        "label += 1\n",
        "print (label)\n",
        "print(LABEL.vocab.itos[label])\n"
      ],
      "execution_count": 78,
      "outputs": [
        {
          "output_type": "stream",
          "text": [
            "torch.Size([1, 99])\n",
            "tensor([[-0.4641, -0.9907]], device='cuda:0')\n",
            "tensor([0], device='cuda:0')\n",
            "tensor([1], device='cuda:0')\n",
            "pos\n"
          ],
          "name": "stdout"
        }
      ]
    }
  ]
}