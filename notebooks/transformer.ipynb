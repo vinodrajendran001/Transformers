{
 "cells": [
  {
   "cell_type": "markdown",
   "metadata": {},
   "source": [
    "### Import libraries"
   ]
  },
  {
   "cell_type": "code",
   "execution_count": 1,
   "metadata": {},
   "outputs": [],
   "source": [
    "import torch\n",
    "from torch import nn\n",
    "import torch.functional as F"
   ]
  },
  {
   "cell_type": "raw",
   "metadata": {},
   "source": [
    "x = ...\n",
    "raw_weights = torch.bmm(x, x.transpose(1,2))\n",
    "weights = F.softmax(raw_weights, dim=2)\n",
    "y = torch.bmm(weights, x)"
   ]
  },
  {
   "cell_type": "markdown",
   "metadata": {},
   "source": [
    "### self attention wide "
   ]
  },
  {
   "cell_type": "code",
   "execution_count": 4,
   "metadata": {},
   "outputs": [],
   "source": [
    "class SelfAttentionWide(nn.Module):\n",
    "    def __init__(self, emb, heads=8, mask=False):\n",
    "        super().__init__()\n",
    "        \n",
    "        self.emb = emb\n",
    "        self.heads = heads\n",
    "        self.mask = mask\n",
    "        \n",
    "        self.tokeys = nn.Linear(emb, emb*heads, bias=False)\n",
    "        self.toqueries = nn.Linear(emb, emb*heads, bias=False)\n",
    "        self.tovalues = nn.Linear(emb, emb*heads, bias=False)\n",
    "        \n",
    "        self.unifyheads = nn.Linear(heads*emb, emb)\n",
    "        \n",
    "    def forward(self, x):\n",
    "        b,t,e = x.size()\n",
    "        assert e == self.emb\n",
    "        h = self.heads\n",
    "        \n",
    "        keys = self.tokeys(x).view(b,t,h,e)\n",
    "        queries = self.toqueries(x).view(b,t,h,e)\n",
    "        values = self.tovalues(x).view(b,t,h,e)\n",
    "        \n",
    "        #compute scaled dot product self-attention\n",
    "        \n",
    "        # fold heads in batch dimension\n",
    "        keys = keys.transpose(1,2).contiguous().view(b*h,t,e)\n",
    "        queries = queries.transpose(1,2).contiguous().view(b*h,t,e)\n",
    "        values = values.transpose(1,2).contiguous().view(b*h,t,e)\n",
    "        \n",
    "        # instead of scaling the dot product, the queries and keys are scaled to make memory efficient computation\n",
    "        queries = queries/(e**(1/4))\n",
    "        keys = keys/(e**(1/4))\n",
    "        \n",
    "        # get dot product of queries and keys, scale\n",
    "        dot = torch.bmm(queries, keys.transpose(1,2))\n",
    "        \n",
    "        assert dot.size() == (b*h, t, t)\n",
    "        \n",
    "        if self.mask:\n",
    "            mask_(dot, maskval=float('-inf'), mask_diagonal=False)\n",
    "        \n",
    "        # dot now has self-attention probabilities\n",
    "        dot = F.softmax(dot, dim=2)\n",
    "        \n",
    "        # apply self-attention to the values\n",
    "        out = torch.bmm(dot, values).view(b,h,t,e)\n",
    "        \n",
    "        out = out.transpose(1,2).contiguous().view(b,t,h*e)\n",
    "        \n",
    "        return self.unifyheads(out)"
   ]
  },
  {
   "cell_type": "markdown",
   "metadata": {},
   "source": [
    "### self attention narrow "
   ]
  },
  {
   "cell_type": "code",
   "execution_count": 5,
   "metadata": {},
   "outputs": [],
   "source": [
    "class SelfAttentionNarrow(nn.Module):\n",
    "    def __init__(self, emb, heads=8, mask=False):\n",
    "        super().__init__()\n",
    "        \n",
    "        assert emb%heads == 0\n",
    "        \n",
    "        self.emb = emb\n",
    "        self.heads = heads\n",
    "        self.mask = mask\n",
    "        \n",
    "        s = emb//heads\n",
    "        \n",
    "        self.tokeys = nn.Linear(s, s, bias=False)\n",
    "        self.toqueries = nn.Linear(s, s, bias=False)\n",
    "        self.tovalues = nn.Linear(s, s, bias=False)\n",
    "        \n",
    "        self.unifyheads = nn.Linear(head*s, emb)\n",
    "        \n",
    "    def forward(self, x):\n",
    "        \n",
    "        b,t,e = x.size()\n",
    "        h = self.heads\n",
    "        assert e == self.emb\n",
    "        \n",
    "        s = e//h\n",
    "        x = x.view(b,t,h,s)\n",
    "        \n",
    "        keys = self.tokeys(x)\n",
    "        queries = self.toqueries(x)\n",
    "        values = self.tovalues(x)\n",
    "        \n",
    "        assert keys.size() == (b,t,h,s)\n",
    "        assert queries.size() == (b,t,h,s)\n",
    "        assert values.size() == (b,t,h,s)\n",
    "        \n",
    "        #compute scaled dot product self-attention\n",
    "        \n",
    "        # fold heads in batch dimension\n",
    "        keys = keys.transpose(1,2).contiguous().view(b*h,t,s)\n",
    "        queries = queries.transpose(1,2).contiguous().view(b*h,t,s)\n",
    "        values = values.transpose(1,2).contiguous().view(b*h,t,s)        \n",
    "        \n",
    "        # instead of scaling the dot product, the queries and keys are scaled to make memory efficient computation\n",
    "        queries = queries/(e**(1/4))\n",
    "        keys = keys/(e**(1/4))    \n",
    "        \n",
    "        # get dot product of queries and keys, scale\n",
    "        dot = torch.bmm(queries, keys.transpose(1,2))\n",
    "        \n",
    "        assert dot.size() == (b*h, t, t)\n",
    "        \n",
    "        if self.mask:\n",
    "            mask_(dot, maskval=float('-inf'), mask_diagonal=False)\n",
    "        \n",
    "        # dot now has self-attention probabilities\n",
    "        dot = F.softmax(dot, dim=2)\n",
    "        \n",
    "        # apply self-attention to the values\n",
    "        out = torch.bmm(dot, values).view(b,h,t,s)\n",
    "        \n",
    "        out = out.transpose(1,2).contiguous().view(b,t,s*h)\n",
    "        \n",
    "        return self.unifyheads(out)"
   ]
  },
  {
   "cell_type": "markdown",
   "metadata": {},
   "source": [
    "### Transformer "
   ]
  },
  {
   "cell_type": "code",
   "execution_count": null,
   "metadata": {},
   "outputs": [],
   "source": [
    "class TransformerBlock(nn.Module):\n",
    "    def __init__(self, emb, heads, mask, seq_length, ff_hidden_mult=4, dropout=0.0, wide=True):\n",
    "        super().__init__()\n",
    "        \n",
    "        self.attention = SelfAttentionWide(emb, heads=heads, mask=mask) if wide \\\n",
    "                    else SelfAttentionNarrow(emb, heads=heads, mask=mask)\n",
    "        \n",
    "        self.mask = mask\n",
    "        \n",
    "        self.norm1 = nn.LayerNorm(emb)\n",
    "        self.norm2 = nn.LayerNorm(emb)\n",
    "        \n",
    "        self.ff = nn.Sequential(\n",
    "            nn.Linear(emb, ff_hidden_mult*emb),\n",
    "            nn.ReLU(),\n",
    "            nn.Linear(ff_hidden_mult*emb, emb)\n",
    "        )\n",
    "        \n",
    "        self.do = nn.Dropout(dropout)\n",
    "        \n",
    "    def forward(self, x):\n",
    "        attended = self.attention(x)\n",
    "        x = self.norm1(attended + x)\n",
    "        x = self.do(x)\n",
    "        fedforward = self.ff(x)\n",
    "        x = self.norm2(fedforward + x)\n",
    "        x = self.do(x)\n",
    "        return x"
   ]
  }
 ],
 "metadata": {
  "kernelspec": {
   "display_name": "Python [conda env:conda-transformer] *",
   "language": "python",
   "name": "conda-env-conda-transformer-py"
  },
  "language_info": {
   "codemirror_mode": {
    "name": "ipython",
    "version": 3
   },
   "file_extension": ".py",
   "mimetype": "text/x-python",
   "name": "python",
   "nbconvert_exporter": "python",
   "pygments_lexer": "ipython3",
   "version": "3.8.0"
  },
  "toc": {
   "base_numbering": 1,
   "nav_menu": {},
   "number_sections": true,
   "sideBar": true,
   "skip_h1_title": false,
   "title_cell": "Table of Contents",
   "title_sidebar": "Contents",
   "toc_cell": false,
   "toc_position": {},
   "toc_section_display": true,
   "toc_window_display": false
  }
 },
 "nbformat": 4,
 "nbformat_minor": 4
}
